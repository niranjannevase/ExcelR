{
 "cells": [
  {
   "cell_type": "markdown",
   "id": "4943a8d4",
   "metadata": {},
   "source": [
    "# Hypothesis Testing Q3 | Buyer Ratio Dataset"
   ]
  },
  {
   "cell_type": "markdown",
   "id": "af88bf17",
   "metadata": {},
   "source": [
    "### To determine whether male-female buyer ratios are similar across regions, we can use hypothesis testing.\n",
    "\n",
    "### Here are the steps to perform hypothesis testing:\n",
    "\n",
    "### 1. Import necessary libraries and load the data from the CSV file into a pandas DataFrame.\n",
    "### 2. Define null and alternative hypotheses.\n",
    "### 3. Calculate the test statistic and p-value using chi-square contingency test.\n",
    "### 4. Compare the p-value with the significance level to determine whether to reject or fail to reject the null hypothesis."
   ]
  },
  {
   "cell_type": "code",
   "execution_count": 1,
   "id": "0cff26b8",
   "metadata": {},
   "outputs": [],
   "source": [
    "# Import necessary libraries\n",
    "import pandas as pd\n",
    "from scipy.stats import chi2_contingency"
   ]
  },
  {
   "cell_type": "code",
   "execution_count": 2,
   "id": "77e2910d",
   "metadata": {},
   "outputs": [],
   "source": [
    "# Load data from CSV file into a pandas DataFrame\n",
    "df = pd.read_csv('BuyerRatio.csv')"
   ]
  },
  {
   "cell_type": "code",
   "execution_count": 3,
   "id": "7688c908",
   "metadata": {},
   "outputs": [
    {
     "data": {
      "text/html": [
       "<div>\n",
       "<style scoped>\n",
       "    .dataframe tbody tr th:only-of-type {\n",
       "        vertical-align: middle;\n",
       "    }\n",
       "\n",
       "    .dataframe tbody tr th {\n",
       "        vertical-align: top;\n",
       "    }\n",
       "\n",
       "    .dataframe thead th {\n",
       "        text-align: right;\n",
       "    }\n",
       "</style>\n",
       "<table border=\"1\" class=\"dataframe\">\n",
       "  <thead>\n",
       "    <tr style=\"text-align: right;\">\n",
       "      <th></th>\n",
       "      <th>Observed Values</th>\n",
       "      <th>East</th>\n",
       "      <th>West</th>\n",
       "      <th>North</th>\n",
       "      <th>South</th>\n",
       "    </tr>\n",
       "  </thead>\n",
       "  <tbody>\n",
       "    <tr>\n",
       "      <th>0</th>\n",
       "      <td>Males</td>\n",
       "      <td>50</td>\n",
       "      <td>142</td>\n",
       "      <td>131</td>\n",
       "      <td>70</td>\n",
       "    </tr>\n",
       "    <tr>\n",
       "      <th>1</th>\n",
       "      <td>Females</td>\n",
       "      <td>435</td>\n",
       "      <td>1523</td>\n",
       "      <td>1356</td>\n",
       "      <td>750</td>\n",
       "    </tr>\n",
       "  </tbody>\n",
       "</table>\n",
       "</div>"
      ],
      "text/plain": [
       "  Observed Values  East  West  North  South\n",
       "0           Males    50   142    131     70\n",
       "1         Females   435  1523   1356    750"
      ]
     },
     "execution_count": 3,
     "metadata": {},
     "output_type": "execute_result"
    }
   ],
   "source": [
    "df"
   ]
  },
  {
   "cell_type": "markdown",
   "id": "ca1b640f",
   "metadata": {},
   "source": [
    "### Define null and alternative hypotheses\n",
    "### H0: Male-female buyer ratios are similar across regions.\n",
    "### HA: Male-female buyer ratios are NOT similar across regions."
   ]
  },
  {
   "cell_type": "code",
   "execution_count": 4,
   "id": "31354f35",
   "metadata": {},
   "outputs": [],
   "source": [
    "alpha = 0.05"
   ]
  },
  {
   "cell_type": "code",
   "execution_count": 5,
   "id": "66d9f7b2",
   "metadata": {},
   "outputs": [
    {
     "name": "stdout",
     "output_type": "stream",
     "text": [
      "P_value =  0.6603094907091882\n"
     ]
    }
   ],
   "source": [
    "# Calculate test statistic and p-value using chi-square contingency test\n",
    "observed_values = df.iloc[0:2, 1:].values\n",
    "test_statistic, p_value, dof, expected_values = chi2_contingency(observed_values)\n",
    "print(\"P_value = \", p_value)"
   ]
  },
  {
   "cell_type": "code",
   "execution_count": 6,
   "id": "44346810",
   "metadata": {},
   "outputs": [
    {
     "name": "stdout",
     "output_type": "stream",
     "text": [
      "We fail to reject the null hypothesis i.e Male-female buyer ratios are similar across regions\n"
     ]
    }
   ],
   "source": [
    "# Compare p-value with significance level\n",
    "if p_value < alpha:\n",
    "    print(\"We reject the null hypothesis i.e  Male-female buyer ratios are NOT similar across regions.\")\n",
    "else:\n",
    "    print(\"We fail to reject the null hypothesis i.e Male-female buyer ratios are similar across regions\")"
   ]
  },
  {
   "cell_type": "markdown",
   "id": "71f30f81",
   "metadata": {},
   "source": [
    "### We fail to reject the null hypothesis i.e Male-female buyer ratios are similar across regions\n"
   ]
  },
  {
   "cell_type": "code",
   "execution_count": null,
   "id": "711e973d",
   "metadata": {},
   "outputs": [],
   "source": []
  }
 ],
 "metadata": {
  "kernelspec": {
   "display_name": "Python 3",
   "language": "python",
   "name": "python3"
  },
  "language_info": {
   "codemirror_mode": {
    "name": "ipython",
    "version": 3
   },
   "file_extension": ".py",
   "mimetype": "text/x-python",
   "name": "python",
   "nbconvert_exporter": "python",
   "pygments_lexer": "ipython3",
   "version": "3.8.8"
  }
 },
 "nbformat": 4,
 "nbformat_minor": 5
}
