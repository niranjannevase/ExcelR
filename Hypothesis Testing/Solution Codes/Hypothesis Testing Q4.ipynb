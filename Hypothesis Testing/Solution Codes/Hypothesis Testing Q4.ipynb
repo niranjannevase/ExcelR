{
 "cells": [
  {
   "attachments": {},
   "cell_type": "markdown",
   "id": "25cc52fd",
   "metadata": {},
   "source": [
    "# Hypothesis Testing Q4 | CustomerOrderForm dataset"
   ]
  },
  {
   "cell_type": "markdown",
   "id": "7a9966d0",
   "metadata": {},
   "source": [
    "### To determine whether the defective percentage varies by center at a 5% significance level, we can use hypothesis testing\n",
    "### Here are the steps to perform hypothesis testing:\n",
    "\n",
    "### 1. Import necessary libraries and load the data from the CSV file into a pandas DataFrame.\n",
    "### 2. Define null and alternative hypotheses.\n",
    "### 3. Calculate the test statistic and p-value using chi-square contingency test.\n",
    "### 4.Compare the p-value with the significance level to determine whether to reject or fail to reject the null hypothesis."
   ]
  },
  {
   "cell_type": "code",
   "execution_count": 1,
   "id": "0bccc54a",
   "metadata": {},
   "outputs": [],
   "source": [
    "# Import necessary libraries\n",
    "import pandas as pd\n",
    "from scipy.stats import chi2_contingency"
   ]
  },
  {
   "cell_type": "code",
   "execution_count": 2,
   "id": "c3209ca4",
   "metadata": {},
   "outputs": [],
   "source": [
    "# Load data from CSV file into a pandas DataFrame\n",
    "df = pd.read_csv('CustomerOrderForm.csv')"
   ]
  },
  {
   "cell_type": "code",
   "execution_count": 3,
   "id": "6e83f69b",
   "metadata": {},
   "outputs": [
    {
     "data": {
      "text/html": [
       "<div>\n",
       "<style scoped>\n",
       "    .dataframe tbody tr th:only-of-type {\n",
       "        vertical-align: middle;\n",
       "    }\n",
       "\n",
       "    .dataframe tbody tr th {\n",
       "        vertical-align: top;\n",
       "    }\n",
       "\n",
       "    .dataframe thead th {\n",
       "        text-align: right;\n",
       "    }\n",
       "</style>\n",
       "<table border=\"1\" class=\"dataframe\">\n",
       "  <thead>\n",
       "    <tr style=\"text-align: right;\">\n",
       "      <th></th>\n",
       "      <th>Phillippines</th>\n",
       "      <th>Indonesia</th>\n",
       "      <th>Malta</th>\n",
       "      <th>India</th>\n",
       "    </tr>\n",
       "  </thead>\n",
       "  <tbody>\n",
       "    <tr>\n",
       "      <th>0</th>\n",
       "      <td>Error Free</td>\n",
       "      <td>Error Free</td>\n",
       "      <td>Defective</td>\n",
       "      <td>Error Free</td>\n",
       "    </tr>\n",
       "    <tr>\n",
       "      <th>1</th>\n",
       "      <td>Error Free</td>\n",
       "      <td>Error Free</td>\n",
       "      <td>Error Free</td>\n",
       "      <td>Defective</td>\n",
       "    </tr>\n",
       "    <tr>\n",
       "      <th>2</th>\n",
       "      <td>Error Free</td>\n",
       "      <td>Defective</td>\n",
       "      <td>Defective</td>\n",
       "      <td>Error Free</td>\n",
       "    </tr>\n",
       "    <tr>\n",
       "      <th>3</th>\n",
       "      <td>Error Free</td>\n",
       "      <td>Error Free</td>\n",
       "      <td>Error Free</td>\n",
       "      <td>Error Free</td>\n",
       "    </tr>\n",
       "    <tr>\n",
       "      <th>4</th>\n",
       "      <td>Error Free</td>\n",
       "      <td>Error Free</td>\n",
       "      <td>Defective</td>\n",
       "      <td>Error Free</td>\n",
       "    </tr>\n",
       "  </tbody>\n",
       "</table>\n",
       "</div>"
      ],
      "text/plain": [
       "  Phillippines   Indonesia       Malta       India\n",
       "0   Error Free  Error Free   Defective  Error Free\n",
       "1   Error Free  Error Free  Error Free   Defective\n",
       "2   Error Free   Defective   Defective  Error Free\n",
       "3   Error Free  Error Free  Error Free  Error Free\n",
       "4   Error Free  Error Free   Defective  Error Free"
      ]
     },
     "execution_count": 3,
     "metadata": {},
     "output_type": "execute_result"
    }
   ],
   "source": [
    "df.head()"
   ]
  },
  {
   "cell_type": "code",
   "execution_count": 4,
   "id": "bfec8c72",
   "metadata": {},
   "outputs": [
    {
     "data": {
      "text/plain": [
       "(300, 4)"
      ]
     },
     "execution_count": 4,
     "metadata": {},
     "output_type": "execute_result"
    }
   ],
   "source": [
    "df.shape"
   ]
  },
  {
   "cell_type": "code",
   "execution_count": 5,
   "id": "1135f6f6",
   "metadata": {},
   "outputs": [
    {
     "data": {
      "text/html": [
       "<div>\n",
       "<style scoped>\n",
       "    .dataframe tbody tr th:only-of-type {\n",
       "        vertical-align: middle;\n",
       "    }\n",
       "\n",
       "    .dataframe tbody tr th {\n",
       "        vertical-align: top;\n",
       "    }\n",
       "\n",
       "    .dataframe thead th {\n",
       "        text-align: right;\n",
       "    }\n",
       "</style>\n",
       "<table border=\"1\" class=\"dataframe\">\n",
       "  <thead>\n",
       "    <tr style=\"text-align: right;\">\n",
       "      <th></th>\n",
       "      <th>Phillippines</th>\n",
       "      <th>Indonesia</th>\n",
       "      <th>Malta</th>\n",
       "      <th>India</th>\n",
       "    </tr>\n",
       "  </thead>\n",
       "  <tbody>\n",
       "    <tr>\n",
       "      <th>count</th>\n",
       "      <td>300</td>\n",
       "      <td>300</td>\n",
       "      <td>300</td>\n",
       "      <td>300</td>\n",
       "    </tr>\n",
       "    <tr>\n",
       "      <th>unique</th>\n",
       "      <td>2</td>\n",
       "      <td>2</td>\n",
       "      <td>2</td>\n",
       "      <td>2</td>\n",
       "    </tr>\n",
       "    <tr>\n",
       "      <th>top</th>\n",
       "      <td>Error Free</td>\n",
       "      <td>Error Free</td>\n",
       "      <td>Error Free</td>\n",
       "      <td>Error Free</td>\n",
       "    </tr>\n",
       "    <tr>\n",
       "      <th>freq</th>\n",
       "      <td>271</td>\n",
       "      <td>267</td>\n",
       "      <td>269</td>\n",
       "      <td>280</td>\n",
       "    </tr>\n",
       "  </tbody>\n",
       "</table>\n",
       "</div>"
      ],
      "text/plain": [
       "       Phillippines   Indonesia       Malta       India\n",
       "count           300         300         300         300\n",
       "unique            2           2           2           2\n",
       "top      Error Free  Error Free  Error Free  Error Free\n",
       "freq            271         267         269         280"
      ]
     },
     "execution_count": 5,
     "metadata": {},
     "output_type": "execute_result"
    }
   ],
   "source": [
    "df.describe()"
   ]
  },
  {
   "cell_type": "code",
   "execution_count": 6,
   "id": "bd091151",
   "metadata": {},
   "outputs": [
    {
     "data": {
      "text/plain": [
       "Phillippines    0\n",
       "Indonesia       0\n",
       "Malta           0\n",
       "India           0\n",
       "dtype: int64"
      ]
     },
     "execution_count": 6,
     "metadata": {},
     "output_type": "execute_result"
    }
   ],
   "source": [
    "df.isnull().sum()"
   ]
  },
  {
   "cell_type": "code",
   "execution_count": 7,
   "id": "4f5f4846",
   "metadata": {},
   "outputs": [
    {
     "name": "stdout",
     "output_type": "stream",
     "text": [
      "Error Free    271\n",
      "Defective      29\n",
      "Name: Phillippines, dtype: int64 \n",
      " Error Free    267\n",
      "Defective      33\n",
      "Name: Indonesia, dtype: int64 \n",
      " Error Free    269\n",
      "Defective      31\n",
      "Name: Malta, dtype: int64 \n",
      " Error Free    280\n",
      "Defective      20\n",
      "Name: India, dtype: int64\n"
     ]
    }
   ],
   "source": [
    "# Checking value counts in data\n",
    "print(df['Phillippines'].value_counts(),'\\n',df['Indonesia'].value_counts(),'\\n',df['Malta'].value_counts(),'\\n',df['India'].value_counts())\n"
   ]
  },
  {
   "cell_type": "code",
   "execution_count": 8,
   "id": "d3ddfc6c",
   "metadata": {},
   "outputs": [
    {
     "name": "stdout",
     "output_type": "stream",
     "text": [
      "[[271, 267, 269, 280], [29, 33, 31, 20]]\n"
     ]
    }
   ],
   "source": [
    "# Creating Contingency table\n",
    "contingency_table = [[271,267,269,280],\n",
    "                    [29,33,31,20]]\n",
    "print(contingency_table)"
   ]
  },
  {
   "cell_type": "markdown",
   "id": "bfaee488",
   "metadata": {},
   "source": [
    "### Define null and alternative hypotheses\n",
    "### H0: The defective percentage does not vary by center.\n",
    "### HA: The defective percentage varies by center."
   ]
  },
  {
   "cell_type": "code",
   "execution_count": 9,
   "id": "542b07bc",
   "metadata": {},
   "outputs": [],
   "source": [
    "alpha = 0.05"
   ]
  },
  {
   "cell_type": "code",
   "execution_count": 10,
   "id": "19f92bb3",
   "metadata": {},
   "outputs": [
    {
     "name": "stdout",
     "output_type": "stream",
     "text": [
      "P_value =  0.2771020991233135 \n",
      " degree of freedom =  3 \n",
      " Expected Values = [[271.75 271.75 271.75 271.75]\n",
      " [ 28.25  28.25  28.25  28.25]]\n"
     ]
    }
   ],
   "source": [
    "# Calculate test statistic and p-value using chi-square contingency test\n",
    "test_statistic, p_value, dof, expected_values = chi2_contingency(contingency_table)\n",
    "print(\"P_value = \", p_value,\"\\n\",\"degree of freedom = \",dof,'\\n', \"Expected Values =\", expected_values)"
   ]
  },
  {
   "cell_type": "code",
   "execution_count": 11,
   "id": "79dabc55",
   "metadata": {},
   "outputs": [
    {
     "name": "stdout",
     "output_type": "stream",
     "text": [
      "We fail to reject the null hypothesis.\n"
     ]
    }
   ],
   "source": [
    "# Compare p-value with significance level\n",
    "if p_value < alpha:\n",
    "    print(\"We reject the null hypothesis.\")\n",
    "else:\n",
    "    print(\"We fail to reject the null hypothesis.\")"
   ]
  },
  {
   "cell_type": "markdown",
   "id": "30808ff8",
   "metadata": {},
   "source": [
    "### We fail to reject the null hypothesis i.e The defective percentage does not vary by center."
   ]
  },
  {
   "cell_type": "code",
   "execution_count": null,
   "id": "79d12a52",
   "metadata": {},
   "outputs": [],
   "source": []
  }
 ],
 "metadata": {
  "kernelspec": {
   "display_name": "Python 3",
   "language": "python",
   "name": "python3"
  },
  "language_info": {
   "codemirror_mode": {
    "name": "ipython",
    "version": 3
   },
   "file_extension": ".py",
   "mimetype": "text/x-python",
   "name": "python",
   "nbconvert_exporter": "python",
   "pygments_lexer": "ipython3",
   "version": "3.8.8"
  }
 },
 "nbformat": 4,
 "nbformat_minor": 5
}
